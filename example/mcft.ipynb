{
 "cells": [
  {
   "cell_type": "code",
   "execution_count": null,
   "metadata": {
    "collapsed": true
   },
   "outputs": [],
   "source": [
    "import tensorflow as tf\n",
    "import numpy as np\n",
    "import pandas as pd\n",
    "from tensorflow.keras.layers import *\n",
    "from tensorflow.keras.models import *\n",
    "import tensorflow.keras.backend as K\n",
    "import matplotlib.pyplot as plt\n",
    "from sklearn.preprocessing import LabelEncoder\n",
    "\n",
    "import os\n",
    "os.environ['CUDA_VISIABLE_DEVICES'] = '0'\n",
    "%matplotlib inline"
   ]
  },
  {
   "cell_type": "code",
   "execution_count": null,
   "outputs": [],
   "source": [
    "\n",
    "\n",
    "def format_data_choice_snr(snr_choice=18):\n",
    "    f = \"/tmp/project/mcft/data/Dataprocess/RML2016_10b/RML2016.10b_dict.dat\"\n",
    "\n",
    "    mod_dict = {\n",
    "        1: '8PSK', 2: 'AM-DSB', 3: 'BPSK', 4: 'CPFSK', 5: 'GFSK', 6: 'PAM4', 7: 'QAM16', 8: 'QAM64', 9: 'QPSK',\n",
    "        10: 'WBFM'\n",
    "    }\n",
    "\n",
    "    mod_dict2 = {\n",
    "        '8PSK': 1, 'AM-DSB': 2, 'BPSK': 3, 'CPFSK': 4, 'GFSK': 5, 'PAM4': 6, 'QAM16': 7, 'QAM64': 8, 'QPSK': 9,\n",
    "        'WBFM': 10\n",
    "    }\n",
    "\n",
    "    Xd = pickle.load(open(f, 'rb'), encoding='latin')\n",
    "    snrs, mods = map(lambda j: sorted(list(set(map(lambda x: x[j], Xd.keys())))), [1, 0])\n",
    "    X = []\n",
    "    lbl = []\n",
    "    print(mods, snrs)\n",
    "    for mod in mods:\n",
    "        if snr_choice:\n",
    "            for snr in [snr_choice]:\n",
    "                raw = Xd[(mod, snr)]\n",
    "                data = raw.reshape(raw.shape[0], -1)\n",
    "                target = np.array([mod_dict2[mod]] * data.shape[0])\n",
    "                data = np.insert(data, 0, values=target, axis=1)\n",
    "                X.append(data)\n",
    "                for i in range(Xd[(mod, snr)].shape[0]):\n",
    "                    lbl.append((mod, snr))\n",
    "        else:\n",
    "            for snr in snrs:\n",
    "                X.append(Xd[(mod, snr)])\n",
    "                for i in range(Xd[(mod, snr)].shape[0]):\n",
    "                    lbl.append((mod, snr))\n",
    "    X = np.vstack(X)\n",
    "    return X\n",
    "\n",
    "\n",
    "X = format_data_choice_snr(18)\n",
    "data = pd.DataFrame(X)\n",
    "feats = list(map(lambda x: str(x), range(0, 257)))\n",
    "data.columns = feats\n",
    "\n",
    "dense_feats = feats[1:]\n",
    "\n",
    "feature_names = dense_feats\n"
   ],
   "metadata": {
    "collapsed": false,
    "pycharm": {
     "name": "#%%\n"
    }
   }
  }
 ],
 "metadata": {
  "kernelspec": {
   "display_name": "Python 3",
   "language": "python",
   "name": "python3"
  },
  "language_info": {
   "codemirror_mode": {
    "name": "ipython",
    "version": 2
   },
   "file_extension": ".py",
   "mimetype": "text/x-python",
   "name": "python",
   "nbconvert_exporter": "python",
   "pygments_lexer": "ipython2",
   "version": "2.7.6"
  }
 },
 "nbformat": 4,
 "nbformat_minor": 0
}